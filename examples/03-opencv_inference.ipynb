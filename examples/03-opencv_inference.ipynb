{
 "cells": [
  {
   "cell_type": "code",
   "execution_count": 20,
   "id": "official-austin",
   "metadata": {},
   "outputs": [],
   "source": [
    "import cv2\n",
    "import os\n",
    "import sys\n",
    "import numpy as np\n",
    "caffe_root=os.path.join(os.environ['HOME'],'caffe')\n",
    "sys.path.insert(1,os.path.join(CAFFE_HOME,'python'))"
   ]
  },
  {
   "cell_type": "code",
   "execution_count": 21,
   "id": "played-forwarding",
   "metadata": {},
   "outputs": [
    {
     "name": "stdout",
     "output_type": "stream",
     "text": [
      "Downloading pre-trained CaffeNet model...\n",
      "../scripts/download_model_binary.py:36: YAMLLoadWarning: calling yaml.load() without Loader=... is deprecated, as the default Loader is unsafe. Please read https://msg.pyyaml.org/load for full details.\n",
      "  frontmatter = yaml.load('\\n'.join(lines[top + 1:bottom]))\n",
      "Model already exists.\n"
     ]
    }
   ],
   "source": [
    "if os.path.isfile(caffe_root + 'models/bvlc_reference_caffenet/bvlc_reference_caffenet.caffemodel'):\n",
    "    print('CaffeNet found.')\n",
    "else:\n",
    "    print(\"Downloading pre-trained CaffeNet model...\")\n",
    "    !../scripts/download_model_binary.py ../models/bvlc_reference_caffenet"
   ]
  },
  {
   "cell_type": "code",
   "execution_count": 25,
   "id": "junior-group",
   "metadata": {},
   "outputs": [
    {
     "name": "stdout",
     "output_type": "stream",
     "text": [
      "[104.00698793 116.66876762 122.67891434]\n"
     ]
    }
   ],
   "source": [
    "mu = np.load(os.path.join(caffe_root , 'python/caffe/imagenet/ilsvrc_2012_mean.npy'))\n",
    "mu = mu.mean(1).mean(1)\n",
    "print(mu)"
   ]
  },
  {
   "cell_type": "code",
   "execution_count": 26,
   "id": "wanted-indicator",
   "metadata": {},
   "outputs": [],
   "source": [
    "image_path = os.path.join(caffe_root,'examples/images/cat.jpg')\n",
    "image = cv2.imread(image_path)"
   ]
  },
  {
   "cell_type": "code",
   "execution_count": 38,
   "id": "herbal-general",
   "metadata": {},
   "outputs": [
    {
     "name": "stdout",
     "output_type": "stream",
     "text": [
      "(360, 480, 3)\n",
      "(1, 3, 227, 227)\n"
     ]
    }
   ],
   "source": [
    "print(image.shape)\n",
    "blob = cv2.dnn.blobFromImage(image,size=(227,227),scalefactor=1.0,mean=mu,swapRB=False)\n",
    "print(blob.shape)"
   ]
  },
  {
   "cell_type": "code",
   "execution_count": 39,
   "id": "presidential-dressing",
   "metadata": {},
   "outputs": [],
   "source": [
    "model_def = os.path.join(caffe_root ,'models/bvlc_reference_caffenet/deploy.prototxt')\n",
    "model_weights = os.path.join(caffe_root ,'models/bvlc_reference_caffenet/bvlc_reference_caffenet.caffemodel')\n"
   ]
  },
  {
   "cell_type": "code",
   "execution_count": 40,
   "id": "polish-religious",
   "metadata": {},
   "outputs": [],
   "source": [
    "net = cv2.dnn.readNetFromCaffe(prototxt=model_def,caffeModel=model_weights)"
   ]
  },
  {
   "cell_type": "code",
   "execution_count": 41,
   "id": "focused-europe",
   "metadata": {},
   "outputs": [
    {
     "name": "stdout",
     "output_type": "stream",
     "text": [
      "(1, 1000)\n"
     ]
    }
   ],
   "source": [
    "net.setPreferableBackend(cv2.dnn.DNN_BACKEND_OPENCV)\n",
    "net.setPreferableTarget(cv2.dnn.DNN_TARGET_CPU)\n",
    "net.setInput(blob)\n",
    "prob = net.forward()\n",
    "print(prob.shape)"
   ]
  },
  {
   "cell_type": "code",
   "execution_count": 42,
   "id": "scenic-airline",
   "metadata": {},
   "outputs": [
    {
     "name": "stdout",
     "output_type": "stream",
     "text": [
      "Labels num:281,values:0.31338876485824585\n"
     ]
    }
   ],
   "source": [
    "print(\"Labels num:{},values:{}\".format(np.argmax(prob),np.max(prob)))"
   ]
  },
  {
   "cell_type": "code",
   "execution_count": null,
   "id": "crucial-chicken",
   "metadata": {},
   "outputs": [],
   "source": []
  }
 ],
 "metadata": {
  "kernelspec": {
   "display_name": "Python 3",
   "language": "python",
   "name": "python3"
  },
  "language_info": {
   "codemirror_mode": {
    "name": "ipython",
    "version": 3
   },
   "file_extension": ".py",
   "mimetype": "text/x-python",
   "name": "python",
   "nbconvert_exporter": "python",
   "pygments_lexer": "ipython3",
   "version": "3.8.5"
  }
 },
 "nbformat": 4,
 "nbformat_minor": 5
}
